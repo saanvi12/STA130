{
 "cells": [
  {
   "cell_type": "code",
   "execution_count": 1,
   "id": "8f9b27a4",
   "metadata": {},
   "outputs": [
    {
     "ename": "SyntaxError",
     "evalue": "unterminated string literal (detected at line 2) (447198065.py, line 2)",
     "output_type": "error",
     "traceback": [
      "\u001b[0;36m  Cell \u001b[0;32mIn[1], line 2\u001b[0;36m\u001b[0m\n\u001b[0;31m    Let's break down how the Python code simulates the Monty Hall problem:\u001b[0m\n\u001b[0m       ^\u001b[0m\n\u001b[0;31mSyntaxError\u001b[0m\u001b[0;31m:\u001b[0m unterminated string literal (detected at line 2)\n"
     ]
    }
   ],
   "source": [
    "# 1. NotebookLM explaining Monte Hall code.\n",
    "\n",
    "# ME: *insert Monte Hall code* this is some code that is a model of the Monte Hall problem. Can you walk me through it?\n",
    "\n",
    "Let's break down how the Python code simulates the Monty Hall problem:\n",
    "\n",
    "**Understanding the Monty Hall Problem**\n",
    "\n",
    "Before diving into the code, let's ensure a clear understanding of the Monty Hall problem itself:\n",
    "\n",
    "*   **The Setup:** There are three doors. Behind one door is a car, and behind the other two are goats. You initially choose a door.\n",
    "*   **Monty's Action:** The host (Monty) knows where the car is. He opens one of the doors you *didn't* choose, always revealing a goat.\n",
    "*   **The Decision:** You now have the option to stick with your original door or switch to the other unopened door.\n",
    "\n",
    "The key is that **switching doors significantly increases your chances of winning the car**.\n",
    "\n",
    "**Code Walkthrough**\n",
    "\n",
    "1.  **Defining the Simulation:**\n",
    "    *   `def monty_hall_simulation(switch=True):` This line defines a function called `monty_hall_simulation`. The function takes an argument `switch` which defaults to `True`, meaning the simulation will model switching doors.\n",
    "\n",
    "2.  **Setting Up the Doors:**\n",
    "    *   `doors =` This creates a list called `doors` representing the three doors. 0 represents a goat, and 1 represents the car.\n",
    "\n",
    "3.  **Shuffling the Doors:**\n",
    "    *   `random.shuffle(doors)`  This line shuffles the elements in the `doors` list randomly, simulating the random placement of the car behind a door.\n",
    "\n",
    "4.  **Contestant's Initial Choice:**\n",
    "    *   `initial_choice = random.randint(0, 2)` This generates a random number (0, 1, or 2) representing the contestant's initial door choice.\n",
    "\n",
    "5.  **Monty's Choice:**\n",
    "    *   `for i in range(3):`: This loop iterates through each door.\n",
    "        *   `if i != initial_choice and doors[i] == 0:` This condition checks if the current door (`i`) is not the contestant's initial choice and if it has a goat (0) behind it.\n",
    "            *   `monty_choice = i`: If the condition is true, Monty opens that door (`i`).\n",
    "            *   `break`: This stops the loop once Monty has found a goat door to open.\n",
    "\n",
    "6.  **Switching or Staying:**\n",
    "    *   `if switch:`: If `switch` is True (which it is by default), the code simulates switching doors.\n",
    "        *   `for i in range(3):`: This loop finds the remaining unopened door.\n",
    "            *   `if i != initial_choice and i != monty_choice:` If the current door is neither the initial choice nor Monty's opened door, this is the door to switch to.\n",
    "                *   `final_choice = i`\n",
    "                *   `break`\n",
    "    *   `else:`: If `switch` is False, the contestant sticks with the initial choice.\n",
    "        *   `final_choice = initial_choice`\n",
    "\n",
    "7.  **Determining the Outcome:**\n",
    "    *   `return doors[final_choice]` This returns the value (0 or 1) behind the `final_choice` door, indicating whether the contestant won (1) or lost (0).\n",
    "\n",
    "8.  **Running Multiple Simulations:**\n",
    "    *   `num_simulations = 10000`: Sets the number of times to run the simulation.\n",
    "    *   The code then runs the `monty_hall_simulation` function `num_simulations` times, both with switching (`switch=True`) and without switching (`switch=False`), and tracks the number of wins.\n",
    "\n",
    "9.  **Calculating and Printing Probabilities:**\n",
    "    *   The code calculates the probabilities of winning with and without switching by dividing the number of wins by the total number of simulations.\n",
    "    *   Finally, it prints these probabilities.\n",
    "\n",
    "**Key Takeaway:**\n",
    "\n",
    "Running this simulation numerous times will demonstrate that switching doors leads to a significantly higher probability of winning the car in the Monty Hall problem. This is a classic example of how our intuition can sometimes mislead us in probability.\n"
   ]
  },
  {
   "cell_type": "code",
   "execution_count": 5,
   "id": "06445885",
   "metadata": {},
   "outputs": [
    {
     "name": "stdout",
     "output_type": "stream",
     "text": [
      "Probability of winning with switching: 0.6587\n",
      "Probability of winning without switching: 0.3348\n"
     ]
    }
   ],
   "source": [
    "# 2. ChatGPT giving me more streamlined \"for loop\" code so the process is easier\n",
    "# I copied the code from the course GitHub into ChatGPT and asked it to simplify the code.\n",
    "# I find this code more compact, because it removed the \"for loop\" and added \"next()\" and \"sum()\", which removed a\n",
    "# lot of lines of code, and removed the conditional statements. Eg. it counts wins with sum() instead of loops with\n",
    "# \"if\" statements. It also removed some variables. \n"
   ]
  },
  {
   "cell_type": "code",
   "execution_count": 6,
   "id": "ac247a8e",
   "metadata": {},
   "outputs": [],
   "source": [
    "# 3. New and improved code with comments:\n",
    "\n",
    "import random\n",
    "\n",
    "def monty_hall_simulation(switch=True):\n",
    "    doors = [0, 0, 1]  # Two goats and one car\n",
    "    random.shuffle(doors)\n",
    "    \n",
    "    initial_choice = random.randint(0, 2)  # Contestant's initial pick\n",
    "    monty_choice = next(i for i in range(3) if i != initial_choice and doors[i] == 0)  # Monty reveals a goat\n",
    "    \n",
    "    # Final choice: switch to the other unopened door or stick with initial\n",
    "    if switch:\n",
    "        final_choice = next(i for i in range(3) if i != initial_choice and i != monty_choice)\n",
    "    else:\n",
    "        final_choice = initial_choice\n",
    "    \n",
    "    return doors[final_choice]  # Return 1 if it's the car, 0 if it's a goat\n",
    "\n",
    "num_simulations = 10000\n",
    "wins_with_switching = sum(monty_hall_simulation(switch=True) for _ in range(num_simulations))\n",
    "wins_without_switching = sum(monty_hall_simulation(switch=False) for _ in range(num_simulations))\n",
    "\n",
    "# Calculate probabilities\n",
    "prob_with_switching = wins_with_switching / num_simulations\n",
    "prob_without_switching = wins_without_switching / num_simulations\n",
    "\n",
    "# Print results\n",
    "print(f\"Probability of winning with switching: {prob_with_switching:.4f}\")\n",
    "print(f\"Probability of winning without switching: {prob_without_switching:.4f}\")"
   ]
  },
  {
   "cell_type": "code",
   "execution_count": 12,
   "id": "204e42ca",
   "metadata": {},
   "outputs": [],
   "source": [
    "# 4. Here's a summary of our chat so far:\n",
    "\n",
    "1. **Markovian Chatbot Code**: You shared a code snippet for a Markovian chatbot, which uses two dictionaries to track word frequencies and the words that follow each other.\n",
    "\n",
    "2. **Error Resolution**: You encountered an error stating that `words` wasn't defined. I explained that you need to define `words` as a list of words extracted from a text or string.\n",
    "\n",
    "3. **Line-by-Line Explanation**: You requested a detailed line-by-line explanation of your original code. I provided an in-depth breakdown, explaining each part of the code, its purpose, and how it functions, including what the `word_used` and `next_word` dictionaries are used for.\n",
    "\n",
    "4. **Example**: I provided an example sentence to illustrate how the code processes the words and updates the dictionaries.\n",
    "\n",
    "If you have more questions or need further assistance, feel free to ask!"
   ]
  },
  {
   "cell_type": "code",
   "execution_count": null,
   "id": "eb0aea4b",
   "metadata": {},
   "outputs": [],
   "source": [
    "# 5. Here's a summary of our discussion regarding the extensions of your Markovian chatbot code:\n",
    "\n",
    "1. **Markovian Chatbot Extension #1**:\n",
    "   - You introduced functionality to count bi-grams (pairs of words).\n",
    "   - Two new dictionaries were created: `word_used2` for counting bi-grams and `next_word2` for tracking subsequent words that follow each bi-gram.\n",
    "   - The code iterated through the words, skipping the last two to correctly form bi-grams, and updated the counts accordingly.\n",
    "\n",
    "2. **Markovian Chatbot Extension #2**:\n",
    "   - You further extended the chatbot to associate text generation with specific characters from a dataset, enhancing contextual relevance.\n",
    "   - You used `Counter` to process a column of characters, transforming them to uppercase and replacing spaces with periods.\n",
    "   - Nested dictionaries (`word_used2C` and `next_word2C`) were implemented to maintain counts of bi-grams and their following words, but now tied to specific characters.\n",
    "   - The code included checks to initialize dictionaries and counts only when necessary, ensuring that each character's interactions with bi-grams were properly recorded.\n",
    "\n",
    "3. **Overall Improvements**:\n",
    "   - The extensions allow for richer and more contextual responses by considering the interactions between words and characters, making the chatbot capable of generating dialogue that reflects character-specific speech patterns.\n",
    "\n",
    "If you have any more questions or additional code to share, let me know!"
   ]
  },
  {
   "cell_type": "code",
   "execution_count": null,
   "id": "9886ef42",
   "metadata": {},
   "outputs": [],
   "source": [
    "# 6. Reflection on interacting with Chat experience\n",
    "\n",
    "#1. In terms of explaining the code, the Chatbots were almost immediately\n",
    "# helpful, and could give me explanations of the logic of the code. \n",
    "\n",
    "#2. I was frustrated because sometimes the Chatbot wasn't so helpful in explaining\n",
    "# syntax, which is mainly what I need help with. Also, I realized that NotebookLM\n",
    "# drawing from course notes exclusively is both a blessing and a curse, because I found\n",
    "# it helpful for explaining the course notes and code to me, but I faced issues\n",
    "# when I asked it to improve my code or \"think outside the box\". For real help, I turned \n",
    "# to ChatGPT (like editing my code, or comparing codes). For learning coursework, I like\n",
    "# NotebookLM as its scope is limited and it sticks to what you need to know. \n",
    "\n",
    "#3. Pretty helpful, although I prefer real people explaining code to me any day! I find\n",
    "# Chatbots explain the logic pretty decently, but I struggle with the syntax and I don't\n",
    "# feel a Chatbot can support my learning of the syntax of programs. "
   ]
  },
  {
   "cell_type": "code",
   "execution_count": 14,
   "id": "b4ba615c",
   "metadata": {},
   "outputs": [],
   "source": [
    "# 7. Perception of AI tools in the context of learning coding, stats, data sci\n",
    "\n",
    "# I think my perception of AI tools in learning has definitely evolved.\n",
    "# Initially, I would just use AI for grunt work and make myself do all\n",
    "# the thinking and planning (and learning) elsewhere, but only upon the \n",
    "# start of this course did I realize that I was not harnessing the power of \n",
    "# AI as a personal teacher. I now use it for learning way more than I ever \n",
    "# did, but I think that has something to do with me actually pursuing \n",
    "# knowledge, not easy marks. "
   ]
  },
  {
   "cell_type": "code",
   "execution_count": 16,
   "id": "41552641",
   "metadata": {},
   "outputs": [
    {
     "ename": "SyntaxError",
     "evalue": "unterminated string literal (detected at line 3) (3324585928.py, line 3)",
     "output_type": "error",
     "traceback": [
      "\u001b[0;36m  Cell \u001b[0;32mIn[16], line 3\u001b[0;36m\u001b[0m\n\u001b[0;31m    Sure! Here's a summary of our conversation:\u001b[0m\n\u001b[0m              ^\u001b[0m\n\u001b[0;31mSyntaxError\u001b[0m\u001b[0;31m:\u001b[0m unterminated string literal (detected at line 3)\n"
     ]
    }
   ],
   "source": [
    "# 8. Conversation about careers and stats \n",
    "\n",
    "Sure! Here's a summary of our conversation:\n",
    "\n",
    "1. **Skills in Demand**: We discussed the importance of learning and adaptability, communication, coding, and statistics/data analysis as essential skills for careers in data science and statistics. Each skill contributes significantly to career opportunities in these fields.\n",
    "\n",
    "2. **Career Considerations**: You asked about the feasibility of becoming a statistician or data scientist without coding or data analysis skills. I emphasized that while it’s possible to find niche roles, coding and data analysis are typically fundamental to these careers, and developing these skills would greatly enhance your effectiveness and job prospects.\n",
    "\n",
    "3. **Valuable Skills for Your Career Interests**: Since you expressed an interest in analyzing data trends, making predictions, observing patterns over time, and graphing and modeling, we identified key skills valuable for such a career. These include:\n",
    "   - Statistical analysis (including time series analysis)\n",
    "   - Data visualization skills\n",
    "   - Programming proficiency (especially in Python or R)\n",
    "   - Basic machine learning and predictive modeling\n",
    "   - Critical thinking and problem-solving\n",
    "   - Domain knowledge and business acumen\n",
    "   - Communication skills\n",
    "\n",
    "4. **Practical Experience**: I encouraged exploring internships or projects to apply these skills in real-world scenarios, as practical experience is invaluable for career development.\n",
    "\n",
    "Let me know if you’d like to dive deeper into any specific topic!\n",
    "\n",
    "#8.5: ChatGPT recommended Machine learning, coding, graphing skills,\n",
    "# and understanding statistical concepts. I think I can hone these skills\n",
    "# by taking stats and math classes in university, and supplementing my\n",
    "# learning by working on small personal projects, watching YouTube videos,\n",
    "# and reading. \n",
    "\n",
    "#8.6: The information ChatGPT provided seems very accurate, and I think\n",
    "# it has a great idea of what is generally expected in the field I want\n",
    "# to go into. I think it had a great grasp of what I need to learn, but \n",
    "# talking to an industry professional would help me learn how to actually\n",
    "# get to where I want to be, as opposed to just having a list of what I \n",
    "# need to know.\n"
   ]
  },
  {
   "cell_type": "code",
   "execution_count": null,
   "id": "f608ecc0",
   "metadata": {},
   "outputs": [],
   "source": [
    "# 9. Yes, I have, but I need to speak to more real people to clear\n",
    "# some of my doubts. a"
   ]
  }
 ],
 "metadata": {
  "kernelspec": {
   "display_name": "Python 3 (ipykernel)",
   "language": "python",
   "name": "python3"
  },
  "language_info": {
   "codemirror_mode": {
    "name": "ipython",
    "version": 3
   },
   "file_extension": ".py",
   "mimetype": "text/x-python",
   "name": "python",
   "nbconvert_exporter": "python",
   "pygments_lexer": "ipython3",
   "version": "3.11.6"
  }
 },
 "nbformat": 4,
 "nbformat_minor": 5
}
