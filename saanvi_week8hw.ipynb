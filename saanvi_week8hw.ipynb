{
 "cells": [
  {
   "cell_type": "markdown",
   "id": "53f4493b",
   "metadata": {},
   "source": [
    "##1.\n",
    "The **Simple Linear Regression (SLR)** model is a statistical tool that helps us understand the relationship between two numeric variables: a **predictor variable** (denoted as *x*) and an **outcome variable** (denoted as *Y*). The model assumes that this relationship can be approximated by a straight line, where changes in the predictor variable correspond to changes in the outcome variable \"on average.\" \n",
    "\n",
    "### Components of the SLR Model\n",
    "\n",
    "Mathematically, the theoretical SLR model is represented as:\n",
    "\n",
    "```\n",
    "Y<sub>i</sub> = β<sub>0</sub> + β<sub>1</sub>\\*x<sub>i</sub> + ε<sub>i</sub>\n",
    "```\n",
    "\n",
    "Let's break down each component:\n",
    "\n",
    "*   **Y<sub>i</sub>** represents the **outcome variable** for the i-th observation in the dataset. It is a **continuous numeric variable**, meaning it can take on any value within a given range. In the context of the bird flu and shuttlecock price example, *Y<sub>i</sub>* would represent the price of shuttlecocks for a given observation. \n",
    "*   **x<sub>i</sub>** represents the **predictor variable** for the i-th observation. It is also a **numeric variable**, and for now, we assume it is **continuous**. In the bird flu example, *x<sub>i</sub>* would represent the number of bird flu cases for a given observation.\n",
    "*   **β<sub>0</sub>** represents the **intercept coefficient**. This parameter determines the average value of the outcome variable (*Y*) when the predictor variable (*x*) is 0. In the equation of a line (*y = mx + b*), *β<sub>0</sub>* corresponds to the *b* term.\n",
    "*   **β<sub>1</sub>** represents the **slope coefficient**. This parameter captures the average change in the outcome variable (*Y*) for a one-unit increase in the predictor variable (*x*). In the equation of a line (*y = mx + b*), *β<sub>1</sub>* corresponds to the *m* term.\n",
    "*   **ε<sub>i</sub>** represents the **error term**. This is a **random variable** that accounts for the variability in the outcome variable (*Y*) that is not explained by the linear relationship with the predictor variable (*x*). The error term is assumed to be normally distributed with a mean of 0 and a standard deviation of σ. In other words, *ε<sub>i</sub>* ~ N(0, σ). \n",
    "\n",
    "### Generating a Sample from the SLR Model\n",
    "\n",
    "The theoretical SLR model generates a sample from a normal distribution by combining the deterministic linear relationship between the predictor and outcome variables with the random error term. For each observation, the outcome variable (*Y<sub>i</sub>*) is determined by:\n",
    "\n",
    "1.  Calculating the linear component: *β<sub>0</sub> + β<sub>1</sub>\\*x<sub>i</sub>*\n",
    "2.  Adding a random error term (*ε<sub>i</sub>*) drawn from a normal distribution with mean 0 and standard deviation σ.\n",
    "\n",
    "This process results in a set of (*x<sub>i</sub>*, *Y<sub>i</sub>*) pairs that exhibit a linear trend, but with some scatter around the line due to the random error.\n"
   ]
  },
  {
   "cell_type": "code",
   "execution_count": 3,
   "id": "e00077ac",
   "metadata": {},
   "outputs": [],
   "source": [
    "import numpy as np\n",
    "from scipy.stats import norm\n",
    "\n",
    "# Set the parameters of the model\n",
    "n = 100  # Sample size\n",
    "beta0 = 2  # Intercept coefficient\n",
    "beta1 = 3  # Slope coefficient\n",
    "sigma = 1  # Standard deviation of the error term\n",
    "\n",
    "# Generate the predictor variable (x)\n",
    "x = np.linspace(0, 10, n)  # Evenly spaced values from 0 to 10\n",
    "\n",
    "# Generate the error term (ε)\n",
    "epsilon = norm.rvs(loc=0, scale=sigma, size=n)\n",
    "\n",
    "# Calculate the outcome variable (Y)\n",
    "Y = beta0 + beta1*x + epsilon"
   ]
  },
  {
   "cell_type": "code",
   "execution_count": null,
   "id": "6f41f05c",
   "metadata": {},
   "outputs": [],
   "source": []
  },
  {
   "cell_type": "code",
   "execution_count": null,
   "id": "1780292e",
   "metadata": {},
   "outputs": [],
   "source": []
  }
 ],
 "metadata": {
  "kernelspec": {
   "display_name": "Python 3 (ipykernel)",
   "language": "python",
   "name": "python3"
  },
  "language_info": {
   "codemirror_mode": {
    "name": "ipython",
    "version": 3
   },
   "file_extension": ".py",
   "mimetype": "text/x-python",
   "name": "python",
   "nbconvert_exporter": "python",
   "pygments_lexer": "ipython3",
   "version": "3.11.6"
  }
 },
 "nbformat": 4,
 "nbformat_minor": 5
}
