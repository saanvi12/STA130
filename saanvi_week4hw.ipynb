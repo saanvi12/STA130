{
 "cells": [
  {
   "cell_type": "code",
   "execution_count": 1,
   "id": "de37629e",
   "metadata": {},
   "outputs": [],
   "source": [
    "#1. The standard deviation of the original data measures how\n",
    "# spread out the individual data points are within the dataset, \n",
    "# while the standard error of the mean is about the variability\n",
    "# of the sample mean. It decreases as the sample size grows."
   ]
  },
  {
   "cell_type": "code",
   "execution_count": 2,
   "id": "3948f0a7",
   "metadata": {},
   "outputs": [],
   "source": [
    "#2. We can use the standard error of the mean to construct a \n",
    "# 95% confidence interval for the population mean by calculating\n",
    "# the sample mean, estimating the standard error of the mean, \n",
    "# determining the the margin of error, and constructing the\n",
    "# confidence interval by adding and subtracting the margin of \n",
    "# error from the sample mean. "
   ]
  },
  {
   "cell_type": "code",
   "execution_count": 3,
   "id": "6e89a7ae",
   "metadata": {},
   "outputs": [],
   "source": [
    "#3. We can create a 95% bootstrapped confidence interval using \n",
    "# the bootstrapped means by using np.quantile(), where you are\n",
    "# directly using the spread of the bootstrapped sample means to \n",
    "# define the confidence interval, without needing to separately \n",
    "# calculate the standard error. "
   ]
  },
  {
   "cell_type": "code",
   "execution_count": 7,
   "id": "f4fe4c2d",
   "metadata": {},
   "outputs": [
    {
     "name": "stdout",
     "output_type": "stream",
     "text": [
      "95% CI for the population mean: (59.80, 66.32)\n",
      "95% CI for the population median: (59.65, 66.91)\n"
     ]
    }
   ],
   "source": [
    "#4. \n",
    "import numpy as np\n",
    "import pandas as pd\n",
    "\n",
    "# Set a random seed for reproducibility (important for bootstrapping!)\n",
    "np.random.seed(42)\n",
    "\n",
    "# Generate a sample dataset (you can change these parameters)\n",
    "sample_size = 30\n",
    "population_mean = 65  # Hypothetical average you're interested in\n",
    "population_std = 10\n",
    "data = np.random.normal(population_mean, population_std, sample_size)\n",
    "df = pd.DataFrame({'data': data})\n",
    "\n",
    "# Number of bootstrap simulations\n",
    "num_simulations = 1000\n",
    "\n",
    "# Sample size (should be the same as your original data)\n",
    "n = len(df['data'])\n",
    "\n",
    "# Function to create bootstrapped confidence intervals \n",
    "# (same as before, for clarity)\n",
    "def bootstrap_ci(data, statistic='mean', num_simulations=1000, confidence_level=0.95):\n",
    "    \n",
    "    #This function calculates a bootstrapped confidence interval for a given statistic.\n",
    "\n",
    "    #Parameters:\n",
    "    #data: The original data (a pandas Series or a list-like object)\n",
    "    #statistic: The statistic to calculate ('mean', 'median', etc.)\n",
    "    #num_simulations: Number of bootstrap simulations to perform\n",
    "    #confidence_level: The desired confidence level (e.g., 0.95 for a 95% CI)\n",
    "\n",
    "    #Returns:\n",
    "    #A tuple containing the lower and upper bounds of the confidence interval\n",
    "    \n",
    "\n",
    "    bootstrapped_stats = []\n",
    "    for _ in range(num_simulations):\n",
    "        bootstrap_sample = data.sample(n=n, replace=True)\n",
    "        if statistic == 'mean':\n",
    "            bootstrapped_stats.append(np.mean(bootstrap_sample))\n",
    "        elif statistic == 'median':\n",
    "            bootstrapped_stats.append(np.median(bootstrap_sample))\n",
    "        # Add other statistics (e.g., standard deviation) as elif statements if needed\n",
    "\n",
    "    # Calculate percentiles for the confidence interval\n",
    "    alpha = (1 - confidence_level) / 2\n",
    "    lower_percentile = alpha\n",
    "    upper_percentile = 1 - alpha\n",
    "    lower_bound, upper_bound = np.quantile(bootstrapped_stats, [lower_percentile, upper_percentile])\n",
    "\n",
    "    return lower_bound, upper_bound\n",
    "\n",
    "# 95% CI for the population mean\n",
    "mean_ci_lower, mean_ci_upper = bootstrap_ci(df['data'], 'mean', num_simulations)\n",
    "print(f\"95% CI for the population mean: ({mean_ci_lower:.2f}, {mean_ci_upper:.2f})\")\n",
    "\n",
    "# 95% CI for the population median\n",
    "median_ci_lower, median_ci_upper = bootstrap_ci(df['data'], 'median', num_simulations)\n",
    "print(f\"95% CI for the population median: ({median_ci_lower:.2f}, {median_ci_upper:.2f})\")\n"
   ]
  },
  {
   "cell_type": "code",
   "execution_count": null,
   "id": "d1f5a0e5",
   "metadata": {},
   "outputs": [],
   "source": [
    "#5. We need to distinguish between the role of the population \n",
    "# parameter and the sample statistic when it comes to \n",
    "# confidence intervals because they represent different things:\n",
    "# population parameters are values that describe the entire \n",
    "# population of interest, and sample statistics are values \n",
    "# calculated from a sample of data taken from the population. \n",
    "# Confidence intervals are constructed around sample statistics,\n",
    "# and they provide a reasonable range within which we expect the\n",
    "# true population parameter to lie. "
   ]
  },
  {
   "cell_type": "code",
   "execution_count": null,
   "id": "3bb70d06",
   "metadata": {},
   "outputs": [],
   "source": [
    "#6. i) The process of bootstrapping can be illustrated with an \n",
    "# example of marbles. If you have a bag of marbles, that is your \n",
    "# sample. If you want to know the average weight of all marbles\n",
    "# like these (the whole population), you can learn stuff from the\n",
    "# marbles you do have. You treat your sample like it's the entire\n",
    "# population, and take resamples from the sample with replacement.\n",
    "# Then, you can calculate the statistic you're interested in for\n",
    "# the bootstrap samples, and look at the distribution of all the \n",
    "# bootstrap statistics. \n",
    "# ii) The main purpose of bootstrapping is to estimate the \n",
    "# variability or uncertainty of a statistic from the sample data,\n",
    "# to learn about how it may differ from the population parameter.\n",
    "# Bootstrapping lets us see how shaky our estimate is as we're\n",
    "# only looking at a part of the whole picture. \n",
    "# iii) You can use bootstrapping to check if your guess about a \n",
    "# population average is possible by pretending your sample is the\n",
    "# whole population, resampling with replacement, calculating the \n",
    "# average for each bootstrap sample, creating a confidence\n",
    "# interval, and checking if your guess is in the interval."
   ]
  },
  {
   "cell_type": "code",
   "execution_count": 8,
   "id": "b8a8df78",
   "metadata": {},
   "outputs": [],
   "source": [
    "#7. A confidence interval overlapping zero fails to reject the\n",
    "# null hypothesis because the null hypothesis assumes no effect,\n",
    "# meaning the true population mean difference is zero. A\n",
    "# confidence interval provides a range of plausible values for\n",
    "# this population mean. If the interval includes zero, it's \n",
    "# possible the true mean difference iz zero (and the data does\n",
    "# not provide strong enough evidence to reject the null \n",
    "# hypothesis). This happens even if the observed sample mean\n",
    "# isn't zero, because if there's enough variability/uncertainty\n",
    "# in the data, the confidence interval might still include zero.\n",
    "# You would reject the null hypothesis if the confidence interval\n",
    "# does not include zero. "
   ]
  },
  {
   "cell_type": "code",
   "execution_count": 14,
   "id": "47f61aa7",
   "metadata": {
    "scrolled": true
   },
   "outputs": [
    {
     "data": {
      "image/png": "[encoded data removed]",
      "text/plain": [
       "<Figure size 640x480 with 1 Axes>"
      ]
     },
     "metadata": {},
     "output_type": "display_data"
    },
    {
     "data": {
      "image/png": "[encoded data removed]",
      "text/plain": [
       "<Figure size 640x480 with 1 Axes>"
      ]
     },
     "metadata": {},
     "output_type": "display_data"
    },
    {
     "name": "stdout",
     "output_type": "stream",
     "text": [
      "Reject the null hypothesis: The vaccine has an effect.\n"
     ]
    }
   ],
   "source": [
    "#8. \n",
    "import numpy as np\n",
    "import pandas as pd\n",
    "import matplotlib.pyplot as plt\n",
    "import seaborn as sns\n",
    "\n",
    "# Set random seed for reproducibility\n",
    "np.random.seed(42)\n",
    "\n",
    "# Read data\n",
    "# Simulate the data from the CSV file
data = pd.DataFrame({
    'PatientID': [1, 2, 3, 4, 5, 6, 7, 8, 9, 10],
    'Age': [45, 34, 29, 52, 37, 41, 33, 48, 26, 39],
    'Gender': ['M', 'F', 'M', 'F', 'M', 'F', 'M', 'F', 'M', 'F'],
    'InitialHealthScore': [84, 78, 83, 81, 81, 80, 79, 85, 76, 83],
    'FinalHealthScore': [86, 86, 80, 86, 84, 86, 86, 82, 83, 84]
})\n",
    "\n",
    "# Calculate the difference in health scores\n",
    "data['HealthDifference'] = data['FinalHealthScore'] - data['InitialHealthScore']\n",
    "\n",
    "# Visualize initial and final scores\n",
    "sns.boxplot(data=[data['InitialHealthScore'], data['FinalHealthScore']])\n",
    "plt.title('Initial vs Final Health Scores')\n",
    "plt.xticks([0, 1], ['Initial', 'Final'])\n",
    "plt.show()\n",
    "\n",
    "# Bootstrapping\n",
    "n_iterations = 10000\n",
    "bootstrap_means = []\n",
    "for i in range(n_iterations):\n",
    "    sample = np.random.choice(data['HealthDifference'], size=len(data['HealthDifference']), replace=True)\n",
    "    bootstrap_means.append(np.mean(sample))\n",
    "\n",
    "# Confidence interval (95%)\n",
    "lower_ci = np.percentile(bootstrap_means, 2.5)\n",
    "upper_ci = np.percentile(bootstrap_means, 97.5)\n",
    "\n",
    "# Plot the distribution of bootstrapped means\n",
    "plt.hist(bootstrap_means, bins=30, edgecolor='k', alpha=0.7)\n",
    "plt.axvline(lower_ci, color='red', linestyle='--', label=f'95% CI Lower: {lower_ci}')\n",
    "plt.axvline(upper_ci, color='red', linestyle='--', label=f'95% CI Upper: {upper_ci}')\n",
    "plt.axvline(np.mean(bootstrap_means), color='blue', linestyle='-', label=f'Mean: {np.mean(bootstrap_means)}')\n",
    "plt.title('Bootstrapped Mean Differences')\n",
    "plt.legend()\n",
    "plt.show()\n",
    "\n",
    "# Conclusion based on the confidence interval\n",
    "if lower_ci > 0:\n",
    "    print(\"Reject the null hypothesis: The vaccine has an effect.\")\n",
    "else:\n",
    "    print(\"Fail to reject the null hypothesis: No strong evidence of an effect.\")\n",
    "\n",
    "    \n",
    "   # 1. Problem Introduction\n",
    "\n",
    "#AliTech has developed a new vaccine, and we are tasked with analyzing its effectiveness using patient health data. The dataset includes initial health scores (before the vaccine) and final health scores (after the vaccine) for 10 patients. We aim to determine whether the vaccine has a significant effect on improving patient health.\n",
    "\n",
    "#The null hypothesis (H₀) in this analysis is that the vaccine has no effect on health, meaning the average difference between initial and final health scores is zero. The alternative hypothesis (H₁) is that the vaccine does have an effect, meaning the final health scores are higher on average.\n",
    "\n",
    "#2. Data Visualization\n",
    "\n",
    "#A boxplot will visually compare the initial and final health scores to give an overview of the data distribution. This will help identify whether there is a noticeable shift in health scores after the vaccine.\n",
    "\n",
    "#3. Quantitative Analysis: Bootstrapping\n",
    "\n",
    "#To quantitatively test the null hypothesis, we will employ the bootstrapping method. Bootstrapping is a statistical resampling technique that allows us to estimate the variability in our data by repeatedly sampling from it.\n",
    "\n",
    "#We will calculate the difference between the final and initial health scores for each patient and generate 10,000 bootstrap samples of the mean difference. From this, we will compute a 95% confidence interval for the mean health difference. If the confidence interval excludes zero, we will reject the null hypothesis and conclude that the vaccine likely has an effect.\n",
    "\n",
    "#4. Findings\n",
    "\n",
    "#The confidence interval will indicate whether we can confidently say that the vaccine has an effect. If the interval includes zero, we fail to reject the null hypothesis and cannot conclude that the vaccine is effective. However, if the interval does not include zero, we can reject the null hypothesis, suggesting that the vaccine has a positive effect on health.\n",
    "\n",
    "#5. Conclusion\n",
    "\n",
    "#The analysis will provide a final conclusion regarding the vaccine’s effectiveness. Based on the results of the bootstrapping and the confidence interval, we will determine whether to reject or fail to reject the null hypothesis. This decision will indicate whether the vaccine is likely to improve patient health."
   ]
  },
  {
   "cell_type": "code",
   "execution_count": 10,
   "id": "9a755952",
   "metadata": {},
   "outputs": [],
   "source": [
    "#9. Yes, mostly"
   ]
  },
  {
   "cell_type": "code",
   "execution_count": null,
   "id": "b0fcfcbc",
   "metadata": {},
   "outputs": [],
   "source": [
    "#Summary from Chatgpt:\n",
    "#Here’s a summary of our recent interactions:\n",
    "#\t1.\tVaccine Data Analysis Assignment:\n",
    "#\t•\tYou shared the details of an assignment from a company called AliTech, where you needed to analyze the effectiveness of a vaccine using bootstrapping techniques and hypothesis testing.\n",
    "#\t•\tI provided a detailed outline of how to approach the problem, including sections for problem introduction, data visualization, quantitative analysis (using bootstrapping), findings, and conclusion. I also explained the null hypothesis in the context of the data and vaccine effectiveness.\n",
    "#\t2.\tCode Implementation:\n",
    "#\t•\tI wrote the Python code to perform the bootstrapping analysis, calculate the difference in health scores, and visualize the results through a boxplot and histogram.\n",
    "#\t•\tThe code also included generating 10,000 bootstrap samples, calculating a 95% confidence interval for the mean difference in health scores, and concluding whether to reject or fail to reject the null hypothesis based on whether the confidence interval contained zero.\n",
    "#\t3.\tRewording and Clarification:\n",
    "#\t•\tAfter I shared the written sections, you reworded some of the explanations in your own way. I reviewed your reworded version to ensure that it made sense and was consistent with the original meaning. Everything you rephrased made sense and was aligned with the analysis.\n",
    "#\t4.\tRequest for Written Summary and Code:\n",
    "#\t•\tYou requested the written analysis first, followed by the code, which I provided. This included the problem introduction, visualization, quantitative analysis, findings, and conclusion, followed by the complete code block implementing the solution.\n",
    "#Let me know if you need further assistance with your project or any other topic!\n",
    "\n",
    "#Summary from NotebookLM\n",
    "#Today, we discussed the concept of confidence intervals in the context of hypothesis testing. \n",
    "\n",
    "#*   You initially asked why a confidence interval that includes zero leads to the \"failure to reject the null hypothesis,\" even when the observed sample mean is not exactly zero. [Conversation History]\n",
    "#*   We clarified that while a non-zero sample mean might suggest an effect, it's crucial to consider the variability within the data. A confidence interval helps quantify this variability by providing a range of plausible values for the true population parameter. [Conversation History]\n",
    "#*   If this range (the confidence interval) includes zero, it means the data doesn't provide strong enough evidence to confidently rule out the possibility that the true population difference is zero (i.e., no effect). [Conversation History]\n",
    "#*   We then moved on to a data analysis scenario involving the effectiveness of a new vaccine developed by a company called AliTech. [Conversation History]\n",
    "#*   You provided a dataset and an outline of the deliverables for the analysis. [Conversation History]\n",
    "#*   Following your input, we discussed a step-by-step approach using bootstrapping to assess whether the vaccine had a statistically significant effect on health scores. [Conversation History]\n",
    "#*   The key steps involved calculating the average change in health scores, generating bootstrap samples, calculating the statistic for each bootstrap sample, and constructing the bootstrapped sampling distribution. [Conversation History]\n",
    "#*   We reiterated that a confidence interval including zero would indicate a failure to reject the null hypothesis of no effect. [Conversation History]\n",
    "#*   Finally, we acknowledged the limitations of the small sample size and the potential influence of confounding factors such as age and gender. [Conversation History]\n"
   ]
  }
 ],
 "metadata": {
  "kernelspec": {
   "display_name": "Python 3 (ipykernel)",
   "language": "python",
   "name": "python3"
  },
  "language_info": {
   "codemirror_mode": {
    "name": "ipython",
    "version": 3
   },
   "file_extension": ".py",
   "mimetype": "text/x-python",
   "name": "python",
   "nbconvert_exporter": "python",
   "pygments_lexer": "ipython3",
   "version": "3.11.6"
  }
 },
 "nbformat": 4,
 "nbformat_minor": 5
}
