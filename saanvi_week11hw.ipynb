{
 "cells": [
  {
   "cell_type": "markdown",
   "id": "adf21fd1",
   "metadata": {},
   "source": [
    "## 1.\n",
    "(a) \n",
    "A Classification Decision Tree solves problems involving categorical outcomes (e.g., spam vs. non-spam, disease vs. no disease). It works by sequentially splitting data based on features to group similar data points. Applications include healthcare diagnosis, fraud detection, customer segmentation, and spam filtering.\n",
    "\n",
    "(b) \n",
    "A Classification Decision Tree predicts by sequentially evaluating feature-based questions at each node and following branches until it reaches a leaf node, where it assigns the most frequent class. Multiple Linear Regression predicts a continuous value using a linear equation that combines feature contributions as weighted sums. Decision Trees handle interactions implicitly through splits, while regression requires explicit interaction terms."
   ]
  },
  {
   "cell_type": "markdown",
   "id": "da506d24",
   "metadata": {},
   "source": [
    "## 2.\n",
    "    1.\tAccuracy:\n",
    "Scenario: General classification problems where false positives and false negatives have similar consequences (e.g., spam detection).\n",
    "Rationale: Accuracy provides an overall performance metric but can be misleading when classes are imbalanced, as it treats all predictions equally.\n",
    "\t2.\tSensitivity (Recall):\n",
    "Scenario: Medical diagnostics, such as cancer detection, where identifying all true positives is critical.\n",
    "Rationale: Sensitivity ensures that most actual positives are caught, even if some negatives are misclassified, minimizing the risk of missing a diagnosis.\n",
    "\t3.\tSpecificity:\n",
    "Scenario: Fraud detection systems where the cost of false positives is high (e.g., flagging legitimate transactions as fraud).\n",
    "Rationale: High specificity ensures that most actual negatives are correctly identified, reducing unnecessary disruptions or false alarms.\n",
    "\t4.\tPrecision:\n",
    "Scenario: Email spam filters, where delivering legitimate emails (not false positives) is crucial.\n",
    "Rationale: Precision focuses on minimizing false positives, ensuring that flagged results are mostly accurate."
   ]
  },
  {
   "cell_type": "code",
   "execution_count": null,
   "id": "eb0aea4c",
   "metadata": {},
   "outputs": [],
   "source": []
  }
 ],
 "metadata": {
  "kernelspec": {
   "display_name": "Python 3 (ipykernel)",
   "language": "python",
   "name": "python3"
  },
  "language_info": {
   "codemirror_mode": {
    "name": "ipython",
    "version": 3
   },
   "file_extension": ".py",
   "mimetype": "text/x-python",
   "name": "python",
   "nbconvert_exporter": "python",
   "pygments_lexer": "ipython3",
   "version": "3.11.6"
  }
 },
 "nbformat": 4,
 "nbformat_minor": 5
}
