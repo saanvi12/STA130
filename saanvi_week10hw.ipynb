{
 "cells": [
  {
   "cell_type": "markdown",
   "id": "eee535d1",
   "metadata": {},
   "source": [
    "## 1.\n",
    "1. Simple vs. Multiple Linear Regression\n",
    "\n",
    "\t•\tSimple Linear Regression: Models the outcome ￼ using a single predictor ￼:\n",
    "￼\n",
    "Useful for analyzing one predictor’s effect on ￼.\n",
    "\t•\tMultiple Linear Regression: Uses several predictors to explain ￼:\n",
    "￼\n",
    "Advantage: It allows you to consider multiple factors, giving a more comprehensive model.\n",
    "\n",
    "2. Continuous vs. Indicator Variables in Simple Linear Regression\n",
    "\n",
    "\t•\tContinuous Variable: A predictor that can take on any numeric value. With a continuous ￼:\n",
    "￼\n",
    "￼ changes continuously with ￼.\n",
    "\t•\tIndicator Variable: A binary predictor (0 or 1) representing group membership:\n",
    "￼\n",
    "This creates a categorical shift in ￼ based on group (rather than a continuous trend).\n",
    "\n",
    "3. Adding an Indicator Variable in Multiple Linear Regression\n",
    "\n",
    "Combining a continuous and indicator variable in the same model:\n",
    "￼\n",
    "produces parallel lines for each group defined by the indicator. The slope for ￼ is the same, but each group has its own intercept.\n",
    "\n",
    "4. Interaction Between Continuous and Indicator Variables\n",
    "\n",
    "Adding an interaction term changes the relationship between the continuous variable and ￼ based on the group:\n",
    "￼\n",
    "Now, each group defined by ￼ has its own slope and intercept, allowing the lines to diverge based on group.\n",
    "\n",
    "5. Multiple Linear Regression with Indicator Variables for Categorical Variables\n",
    "\n",
    "For a categorical variable with ￼ categories, we use ￼ indicators. For example:\n",
    "￼\n",
    "\t•\tThe intercept ￼ is the baseline (e.g., first category).\n",
    "\t•\tEach indicator shifts ￼ relative to this baseline.\n",
    "\n",
    "This approach helps compare each category against a reference, giving each category a unique intercept while avoiding redundancy (only using ￼ indicators)."
   ]
  },
  {
   "cell_type": "markdown",
   "id": "77d6c8c8",
   "metadata": {},
   "source": [
    "## 2.\n",
    "\n",
    "Outcome and Predictor Variables\n",
    "\n",
    "\t•\tOutcome Variable: Sales of sports equipment (￼).\n",
    "\t•\tPredictor Variables:\n",
    "\t•\tTV Ad Spend (￼): Represents the amount spent on TV advertising.\n",
    "\t•\tOnline Ad Spend (￼): Represents the amount spent on online advertising.\n",
    "\n",
    "Interaction Consideration\n",
    "\n",
    "\t•\tPotential Interaction: The effectiveness of TV ad spend on sales may depend on the level of online ad spend, and vice versa. This interaction suggests that if both ad spends are high, the combined effect on sales could be different (e.g., synergistic) than if each ad spend were considered in isolation.\n",
    "\n",
    "Linear Forms with and without Interaction\n",
    "\n",
    "\t1.\tWithout Interaction (Additive Model):\n",
    "￼\n",
    "Here, the effects of TV and online ad spending are independent of each other.\n",
    "\t2.\tWith Interaction (Interactive Model):\n",
    "￼\n",
    "The interaction term ￼ allows the effect of each type of ad spend to vary based on the level of the other. This could mean, for example, that high spending on both platforms has an amplified effect on sales.\n",
    "\n",
    "Using These Models for Predictions\n",
    "\n",
    "\t•\tWithout Interaction: Predict sales by adding the separate contributions of TV and online ad spends. Each has a fixed effect on ￼, regardless of the level of the other.\n",
    "\t•\tWith Interaction: Predict sales by accounting for both individual and combined effects. Here, if both ad spends are high, the interaction could amplify the impact on ￼, giving different sales outcomes than the additive model."
   ]
  },
  {
   "cell_type": "code",
   "execution_count": null,
   "id": "f858b2c4",
   "metadata": {},
   "outputs": [],
   "source": []
  }
 ],
 "metadata": {
  "kernelspec": {
   "display_name": "Python 3 (ipykernel)",
   "language": "python",
   "name": "python3"
  },
  "language_info": {
   "codemirror_mode": {
    "name": "ipython",
    "version": 3
   },
   "file_extension": ".py",
   "mimetype": "text/x-python",
   "name": "python",
   "nbconvert_exporter": "python",
   "pygments_lexer": "ipython3",
   "version": "3.11.6"
  }
 },
 "nbformat": 4,
 "nbformat_minor": 5
}
